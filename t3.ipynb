{
  "nbformat": 4,
  "nbformat_minor": 0,
  "metadata": {
    "colab": {
      "provenance": []
    },
    "kernelspec": {
      "name": "python3",
      "display_name": "Python 3"
    },
    "language_info": {
      "name": "python"
    }
  },
  "cells": [
    {
      "cell_type": "markdown",
      "source": [],
      "metadata": {
        "id": "Ryj4NqyTGqFB"
      }
    },
    {
      "cell_type": "code",
      "source": [
        "import os, sys\n",
        "from google.colab import drive\n",
        "drive.mount('/content/drive')\n",
        "nb_path = '/content/notebooks'\n",
        "os.symlink('/content/drive/My Drive/Colab Notebooks', nb_path)\n",
        "sys.path.insert(0,nb_path)\n",
        "\n",
        "\n",
        "!pip install --target=$nb_path nacal"
      ],
      "metadata": {
        "id": "paaMhyXfNSis",
        "colab": {
          "base_uri": "https://localhost:8080/"
        },
        "outputId": "3d600ca7-2b6d-469f-ba3a-3c181c77b011"
      },
      "execution_count": 1,
      "outputs": [
        {
          "output_type": "stream",
          "name": "stdout",
          "text": [
            "Mounted at /content/drive\n",
            "Collecting nacal\n",
            "  Downloading nacal-0.1.30-py3-none-any.whl (33 kB)\n",
            "Collecting sympy>=1.1.0 (from nacal)\n",
            "  Downloading sympy-1.12-py3-none-any.whl (5.7 MB)\n",
            "\u001b[2K     \u001b[90m━━━━━━━━━━━━━━━━━━━━━━━━━━━━━━━━━━━━━━━━\u001b[0m \u001b[32m5.7/5.7 MB\u001b[0m \u001b[31m43.1 MB/s\u001b[0m eta \u001b[36m0:00:00\u001b[0m\n",
            "\u001b[?25hCollecting mpmath>=0.19 (from sympy>=1.1.0->nacal)\n",
            "  Downloading mpmath-1.3.0-py3-none-any.whl (536 kB)\n",
            "\u001b[2K     \u001b[90m━━━━━━━━━━━━━━━━━━━━━━━━━━━━━━━━━━━━━━━━\u001b[0m \u001b[32m536.2/536.2 kB\u001b[0m \u001b[31m38.2 MB/s\u001b[0m eta \u001b[36m0:00:00\u001b[0m\n",
            "\u001b[?25hInstalling collected packages: mpmath, sympy, nacal\n",
            "\u001b[31mERROR: pip's dependency resolver does not currently take into account all the packages that are installed. This behaviour is the source of the following dependency conflicts.\n",
            "torch 2.2.1+cu121 requires nvidia-cublas-cu12==12.1.3.1; platform_system == \"Linux\" and platform_machine == \"x86_64\", which is not installed.\n",
            "torch 2.2.1+cu121 requires nvidia-cuda-cupti-cu12==12.1.105; platform_system == \"Linux\" and platform_machine == \"x86_64\", which is not installed.\n",
            "torch 2.2.1+cu121 requires nvidia-cuda-nvrtc-cu12==12.1.105; platform_system == \"Linux\" and platform_machine == \"x86_64\", which is not installed.\n",
            "torch 2.2.1+cu121 requires nvidia-cuda-runtime-cu12==12.1.105; platform_system == \"Linux\" and platform_machine == \"x86_64\", which is not installed.\n",
            "torch 2.2.1+cu121 requires nvidia-cudnn-cu12==8.9.2.26; platform_system == \"Linux\" and platform_machine == \"x86_64\", which is not installed.\n",
            "torch 2.2.1+cu121 requires nvidia-cufft-cu12==11.0.2.54; platform_system == \"Linux\" and platform_machine == \"x86_64\", which is not installed.\n",
            "torch 2.2.1+cu121 requires nvidia-curand-cu12==10.3.2.106; platform_system == \"Linux\" and platform_machine == \"x86_64\", which is not installed.\n",
            "torch 2.2.1+cu121 requires nvidia-cusolver-cu12==11.4.5.107; platform_system == \"Linux\" and platform_machine == \"x86_64\", which is not installed.\n",
            "torch 2.2.1+cu121 requires nvidia-cusparse-cu12==12.1.0.106; platform_system == \"Linux\" and platform_machine == \"x86_64\", which is not installed.\n",
            "torch 2.2.1+cu121 requires nvidia-nccl-cu12==2.19.3; platform_system == \"Linux\" and platform_machine == \"x86_64\", which is not installed.\n",
            "torch 2.2.1+cu121 requires nvidia-nvtx-cu12==12.1.105; platform_system == \"Linux\" and platform_machine == \"x86_64\", which is not installed.\u001b[0m\u001b[31m\n",
            "\u001b[0mSuccessfully installed mpmath-1.3.0 nacal-0.1.30 sympy-1.12\n",
            "\u001b[33mWARNING: Target directory /content/notebooks/mpmath-1.3.0.dist-info already exists. Specify --upgrade to force replacement.\u001b[0m\u001b[33m\n",
            "\u001b[0m\u001b[33mWARNING: Target directory /content/notebooks/nacal-0.1.30.dist-info already exists. Specify --upgrade to force replacement.\u001b[0m\u001b[33m\n",
            "\u001b[0m\u001b[33mWARNING: Target directory /content/notebooks/nacal already exists. Specify --upgrade to force replacement.\u001b[0m\u001b[33m\n",
            "\u001b[0m\u001b[33mWARNING: Target directory /content/notebooks/sympy already exists. Specify --upgrade to force replacement.\u001b[0m\u001b[33m\n",
            "\u001b[0m\u001b[33mWARNING: Target directory /content/notebooks/isympy.py already exists. Specify --upgrade to force replacement.\u001b[0m\u001b[33m\n",
            "\u001b[0m\u001b[33mWARNING: Target directory /content/notebooks/sympy-1.12.dist-info already exists. Specify --upgrade to force replacement.\u001b[0m\u001b[33m\n",
            "\u001b[0m\u001b[33mWARNING: Target directory /content/notebooks/__pycache__ already exists. Specify --upgrade to force replacement.\u001b[0m\u001b[33m\n",
            "\u001b[0m\u001b[33mWARNING: Target directory /content/notebooks/mpmath already exists. Specify --upgrade to force replacement.\u001b[0m\u001b[33m\n",
            "\u001b[0m\u001b[33mWARNING: Target directory /content/notebooks/share already exists. Specify --upgrade to force replacement.\u001b[0m\u001b[33m\n",
            "\u001b[0m\u001b[33mWARNING: Target directory /content/notebooks/bin already exists. Specify --upgrade to force replacement.\u001b[0m\u001b[33m\n",
            "\u001b[0m"
          ]
        }
      ]
    },
    {
      "cell_type": "markdown",
      "source": [
        "# TAREA **3**"
      ],
      "metadata": {
        "id": "X29IqM2vxNoZ"
      }
    },
    {
      "cell_type": "markdown",
      "source": [
        "## Hemos visto varias propiedades que cumple la operación MATRIZ por vector\n"
      ],
      "metadata": {
        "id": "LYEDjYeXxhdN"
      }
    },
    {
      "cell_type": "markdown",
      "source": [
        "Propiedades de linealidad en el vector"
      ],
      "metadata": {
        "id": "kK95f_CTzKdF"
      }
    },
    {
      "cell_type": "code",
      "source": [
        "!pip install --target=$nb_path nacal\n",
        "from nacal import*"
      ],
      "metadata": {
        "colab": {
          "base_uri": "https://localhost:8080/"
        },
        "id": "CV3WaADszN_0",
        "outputId": "fb12756c-eeb5-421e-8ef3-52754d07ca7c"
      },
      "execution_count": 4,
      "outputs": [
        {
          "output_type": "stream",
          "name": "stdout",
          "text": [
            "Collecting nacal\n",
            "  Using cached nacal-0.1.30-py3-none-any.whl (33 kB)\n",
            "Collecting sympy>=1.1.0 (from nacal)\n",
            "  Using cached sympy-1.12-py3-none-any.whl (5.7 MB)\n",
            "Collecting mpmath>=0.19 (from sympy>=1.1.0->nacal)\n",
            "  Using cached mpmath-1.3.0-py3-none-any.whl (536 kB)\n",
            "Installing collected packages: mpmath, sympy, nacal\n",
            "\u001b[31mERROR: pip's dependency resolver does not currently take into account all the packages that are installed. This behaviour is the source of the following dependency conflicts.\n",
            "torch 2.2.1+cu121 requires nvidia-cublas-cu12==12.1.3.1; platform_system == \"Linux\" and platform_machine == \"x86_64\", which is not installed.\n",
            "torch 2.2.1+cu121 requires nvidia-cuda-cupti-cu12==12.1.105; platform_system == \"Linux\" and platform_machine == \"x86_64\", which is not installed.\n",
            "torch 2.2.1+cu121 requires nvidia-cuda-nvrtc-cu12==12.1.105; platform_system == \"Linux\" and platform_machine == \"x86_64\", which is not installed.\n",
            "torch 2.2.1+cu121 requires nvidia-cuda-runtime-cu12==12.1.105; platform_system == \"Linux\" and platform_machine == \"x86_64\", which is not installed.\n",
            "torch 2.2.1+cu121 requires nvidia-cudnn-cu12==8.9.2.26; platform_system == \"Linux\" and platform_machine == \"x86_64\", which is not installed.\n",
            "torch 2.2.1+cu121 requires nvidia-cufft-cu12==11.0.2.54; platform_system == \"Linux\" and platform_machine == \"x86_64\", which is not installed.\n",
            "torch 2.2.1+cu121 requires nvidia-curand-cu12==10.3.2.106; platform_system == \"Linux\" and platform_machine == \"x86_64\", which is not installed.\n",
            "torch 2.2.1+cu121 requires nvidia-cusolver-cu12==11.4.5.107; platform_system == \"Linux\" and platform_machine == \"x86_64\", which is not installed.\n",
            "torch 2.2.1+cu121 requires nvidia-cusparse-cu12==12.1.0.106; platform_system == \"Linux\" and platform_machine == \"x86_64\", which is not installed.\n",
            "torch 2.2.1+cu121 requires nvidia-nccl-cu12==2.19.3; platform_system == \"Linux\" and platform_machine == \"x86_64\", which is not installed.\n",
            "torch 2.2.1+cu121 requires nvidia-nvtx-cu12==12.1.105; platform_system == \"Linux\" and platform_machine == \"x86_64\", which is not installed.\u001b[0m\u001b[31m\n",
            "\u001b[0mSuccessfully installed mpmath-1.3.0 nacal-0.1.30 sympy-1.12\n",
            "\u001b[33mWARNING: Target directory /content/notebooks/mpmath-1.3.0.dist-info already exists. Specify --upgrade to force replacement.\u001b[0m\u001b[33m\n",
            "\u001b[0m\u001b[33mWARNING: Target directory /content/notebooks/nacal-0.1.30.dist-info already exists. Specify --upgrade to force replacement.\u001b[0m\u001b[33m\n",
            "\u001b[0m\u001b[33mWARNING: Target directory /content/notebooks/nacal already exists. Specify --upgrade to force replacement.\u001b[0m\u001b[33m\n",
            "\u001b[0m\u001b[33mWARNING: Target directory /content/notebooks/sympy already exists. Specify --upgrade to force replacement.\u001b[0m\u001b[33m\n",
            "\u001b[0m\u001b[33mWARNING: Target directory /content/notebooks/isympy.py already exists. Specify --upgrade to force replacement.\u001b[0m\u001b[33m\n",
            "\u001b[0m\u001b[33mWARNING: Target directory /content/notebooks/sympy-1.12.dist-info already exists. Specify --upgrade to force replacement.\u001b[0m\u001b[33m\n",
            "\u001b[0m\u001b[33mWARNING: Target directory /content/notebooks/__pycache__ already exists. Specify --upgrade to force replacement.\u001b[0m\u001b[33m\n",
            "\u001b[0m\u001b[33mWARNING: Target directory /content/notebooks/mpmath already exists. Specify --upgrade to force replacement.\u001b[0m\u001b[33m\n",
            "\u001b[0m\u001b[33mWARNING: Target directory /content/notebooks/share already exists. Specify --upgrade to force replacement.\u001b[0m\u001b[33m\n",
            "\u001b[0m\u001b[33mWARNING: Target directory /content/notebooks/bin already exists. Specify --upgrade to force replacement.\u001b[0m\u001b[33m\n",
            "\u001b[0m"
          ]
        }
      ]
    },
    {
      "cell_type": "markdown",
      "source": [
        "# Propiedades de linealidad en el vector"
      ],
      "metadata": {
        "id": "A-k-SoY1HhQW"
      }
    },
    {
      "cell_type": "markdown",
      "source": [
        "# 1.A(b + c)=Ab + Ac"
      ],
      "metadata": {
        "id": "4YF8jbw-9UAB"
      }
    },
    {
      "cell_type": "code",
      "source": [
        "A= Matrix([ Vector([1,2,1]), Vector([2,-1,2]),Vector([2,-1,2])  ])\n",
        "A"
      ],
      "metadata": {
        "colab": {
          "base_uri": "https://localhost:8080/",
          "height": 46
        },
        "id": "5ipXhkRrND_1",
        "outputId": "6838f34c-58da-4fbc-ebb0-854a685937cd"
      },
      "execution_count": 7,
      "outputs": [
        {
          "output_type": "execute_result",
          "data": {
            "text/plain": [
              "Matrix([Vector([1, 2, 1]), Vector([2, -1, 2]), Vector([2, -1, 2])])"
            ],
            "text/html": [
              "<p style=\"text-align:center;\">$\\left[ \\begin{array}{ccc}1&2&2\\\\2&-1&-1\\\\1&2&2\\\\ \\end{array} \\right]$</p>"
            ],
            "image/png": "$\\left[ \\begin{array}{ccc}1&2&2\\\\2&-1&-1\\\\1&2&2\\\\ \\end{array} \\right]$",
            "text/latex": "$\\left[ \\begin{array}{ccc}1&2&2\\\\2&-1&-1\\\\1&2&2\\\\ \\end{array} \\right]$"
          },
          "metadata": {},
          "execution_count": 7
        }
      ]
    },
    {
      "cell_type": "markdown",
      "source": [
        "$\\left[ \\begin{array}{ccc}1&2&2\\\\2&-1&-1\\\\1&2&2\\\\ \\end{array} \\right]$"
      ],
      "metadata": {
        "id": "xzAHnUYA0zWz"
      }
    },
    {
      "cell_type": "code",
      "source": [
        "b =Vector([2,3,1])\n",
        "b"
      ],
      "metadata": {
        "colab": {
          "base_uri": "https://localhost:8080/",
          "height": 46
        },
        "id": "qzwR1gbvEtWM",
        "outputId": "3f9992b8-74e4-4317-fca6-6767aef63090"
      },
      "execution_count": 6,
      "outputs": [
        {
          "output_type": "execute_result",
          "data": {
            "text/plain": [
              "Vector([2, 3, 1])"
            ],
            "text/html": [
              "<p style=\"text-align:center;\">$\\begin{pmatrix}2\\\\ 3\\\\ 1\\end{pmatrix}$</p>"
            ],
            "image/png": "$\\begin{pmatrix}2\\\\ 3\\\\ 1\\end{pmatrix}$",
            "text/latex": "$\\begin{pmatrix}2\\\\ 3\\\\ 1\\end{pmatrix}$"
          },
          "metadata": {},
          "execution_count": 6
        }
      ]
    },
    {
      "cell_type": "markdown",
      "source": [
        "$\\begin{pmatrix}2\\\\ 3\\\\ 1\\end{pmatrix}$"
      ],
      "metadata": {
        "id": "uSJDVnH6TMLz"
      }
    },
    {
      "cell_type": "code",
      "source": [
        "c=Vector([2,2,2])\n",
        "c"
      ],
      "metadata": {
        "colab": {
          "base_uri": "https://localhost:8080/",
          "height": 46
        },
        "id": "BXWTK87bTRSi",
        "outputId": "cc0ee1f6-ea66-4877-a7ab-859c4c8b039f"
      },
      "execution_count": 8,
      "outputs": [
        {
          "output_type": "execute_result",
          "data": {
            "text/plain": [
              "Vector([2, 2, 2])"
            ],
            "text/html": [
              "<p style=\"text-align:center;\">$\\begin{pmatrix}2\\\\ 2\\\\ 2\\end{pmatrix}$</p>"
            ],
            "image/png": "$\\begin{pmatrix}2\\\\ 2\\\\ 2\\end{pmatrix}$",
            "text/latex": "$\\begin{pmatrix}2\\\\ 2\\\\ 2\\end{pmatrix}$"
          },
          "metadata": {},
          "execution_count": 8
        }
      ]
    },
    {
      "cell_type": "markdown",
      "source": [
        "$\\begin{pmatrix}2\\\\ 2\\\\ 2\\end{pmatrix}$"
      ],
      "metadata": {
        "id": "0Xwd3QdvTbU2"
      }
    },
    {
      "cell_type": "code",
      "source": [
        "op1=A*(b+c)\n",
        "op2=A*b+A*c\n",
        "print(op1,op2)\n",
        "op1\n",
        "op2"
      ],
      "metadata": {
        "colab": {
          "base_uri": "https://localhost:8080/",
          "height": 64
        },
        "id": "hF_IY4K1TjKq",
        "outputId": "900db82b-35d1-4b04-db38-4414d9a3028d"
      },
      "execution_count": 9,
      "outputs": [
        {
          "output_type": "stream",
          "name": "stdout",
          "text": [
            "Vector([20, 0, 20]) Vector([20, 0, 20])\n"
          ]
        },
        {
          "output_type": "execute_result",
          "data": {
            "text/plain": [
              "Vector([20, 0, 20])"
            ],
            "text/html": [
              "<p style=\"text-align:center;\">$\\begin{pmatrix}20\\\\ 0\\\\ 20\\end{pmatrix}$</p>"
            ],
            "image/png": "$\\begin{pmatrix}20\\\\ 0\\\\ 20\\end{pmatrix}$",
            "text/latex": "$\\begin{pmatrix}20\\\\ 0\\\\ 20\\end{pmatrix}$"
          },
          "metadata": {},
          "execution_count": 9
        }
      ]
    },
    {
      "cell_type": "markdown",
      "source": [
        "$\\begin{pmatrix}20\\\\ 0\\\\ 20\\end{pmatrix}$"
      ],
      "metadata": {
        "id": "kfyBGlourBtI"
      }
    },
    {
      "cell_type": "markdown",
      "source": [
        "Si cumple la  linealidad en el vector de:\n",
        "1.A(b + c)=Ab + Ac\n"
      ],
      "metadata": {
        "id": "kA9jW_AZhQek"
      }
    },
    {
      "cell_type": "markdown",
      "source": [
        "# 2.A(λb) = λ(Ab)\n",
        "Siendo el escalar el numero 4"
      ],
      "metadata": {
        "id": "w3J6d3PAlITt"
      }
    },
    {
      "cell_type": "code",
      "source": [
        "op3=A*(4*b)\n",
        "op4=4*(A*b)\n",
        "print(op3,op4)\n",
        "op3\n",
        "op4"
      ],
      "metadata": {
        "colab": {
          "base_uri": "https://localhost:8080/",
          "height": 64
        },
        "id": "89kb2TKUlMbA",
        "outputId": "a0f54e56-56b3-43d2-ddf2-5bf1e8525afb"
      },
      "execution_count": 10,
      "outputs": [
        {
          "output_type": "stream",
          "name": "stdout",
          "text": [
            "Vector([40, 0, 40]) Vector([40, 0, 40])\n"
          ]
        },
        {
          "output_type": "execute_result",
          "data": {
            "text/plain": [
              "Vector([40, 0, 40])"
            ],
            "text/html": [
              "<p style=\"text-align:center;\">$\\begin{pmatrix}40\\\\ 0\\\\ 40\\end{pmatrix}$</p>"
            ],
            "image/png": "$\\begin{pmatrix}40\\\\ 0\\\\ 40\\end{pmatrix}$",
            "text/latex": "$\\begin{pmatrix}40\\\\ 0\\\\ 40\\end{pmatrix}$"
          },
          "metadata": {},
          "execution_count": 10
        }
      ]
    },
    {
      "cell_type": "markdown",
      "source": [
        "$\\begin{pmatrix}40\\\\ 0\\\\ 40\\end{pmatrix}$"
      ],
      "metadata": {
        "id": "G1tfMpg5qleK"
      }
    },
    {
      "cell_type": "markdown",
      "source": [
        "Si cumple la linealidad en el vector de:\n",
        "\n",
        "2.A(λb) = λ(Ab)"
      ],
      "metadata": {
        "id": "sT9wl_ZfrTg5"
      }
    },
    {
      "cell_type": "markdown",
      "source": [
        "# Otras propiedades"
      ],
      "metadata": {
        "id": "t75hq_uUrRk-"
      }
    },
    {
      "cell_type": "markdown",
      "source": [
        "A(Bc)=[A(B|1); . . . A(B|n);]c"
      ],
      "metadata": {
        "id": "biq4SddzsS43"
      }
    },
    {
      "cell_type": "code",
      "source": [
        "B=Matrix([ Vector([1,2,3]), Vector([4,-3,2]),Vector([5,-1,2])  ])\n",
        "B"
      ],
      "metadata": {
        "colab": {
          "base_uri": "https://localhost:8080/",
          "height": 46
        },
        "id": "VdZm1YdayVS3",
        "outputId": "4e173bef-8e75-4427-b007-6fc23c347793"
      },
      "execution_count": 11,
      "outputs": [
        {
          "output_type": "execute_result",
          "data": {
            "text/plain": [
              "Matrix([Vector([1, 2, 3]), Vector([4, -3, 2]), Vector([5, -1, 2])])"
            ],
            "text/html": [
              "<p style=\"text-align:center;\">$\\left[ \\begin{array}{ccc}1&4&5\\\\2&-3&-1\\\\3&2&2\\\\ \\end{array} \\right]$</p>"
            ],
            "image/png": "$\\left[ \\begin{array}{ccc}1&4&5\\\\2&-3&-1\\\\3&2&2\\\\ \\end{array} \\right]$",
            "text/latex": "$\\left[ \\begin{array}{ccc}1&4&5\\\\2&-3&-1\\\\3&2&2\\\\ \\end{array} \\right]$"
          },
          "metadata": {},
          "execution_count": 11
        }
      ]
    },
    {
      "cell_type": "markdown",
      "source": [
        "$\\left[ \\begin{array}{ccc}1&4&5\\\\2&-3&-1\\\\3&2&2\\\\ \\end{array} \\right]$"
      ],
      "metadata": {
        "id": "xkZ9xZncyidY"
      }
    },
    {
      "cell_type": "code",
      "source": [
        "op5=A*(B*c)\n",
        "\n",
        "print(op5)\n"
      ],
      "metadata": {
        "colab": {
          "base_uri": "https://localhost:8080/"
        },
        "id": "M4EVS1iGykj6",
        "outputId": "1ae07e98-8323-49ff-b871-e1a52d79f0aa"
      },
      "execution_count": 16,
      "outputs": [
        {
          "output_type": "stream",
          "name": "stdout",
          "text": [
            "Vector([40, 30, 40])\n"
          ]
        }
      ]
    },
    {
      "cell_type": "code",
      "source": [
        "op6=(B|1)*A\n",
        "print(op6)\n",
        "op7=(B|2)*A\n",
        "print(op7)\n",
        "op8=(B|3)*A\n",
        "print(op8)"
      ],
      "metadata": {
        "colab": {
          "base_uri": "https://localhost:8080/"
        },
        "id": "cuDrB8-O2591",
        "outputId": "cf87ddb1-f0e5-4434-c3cd-8b63b2fdf037"
      },
      "execution_count": 31,
      "outputs": [
        {
          "output_type": "stream",
          "name": "stdout",
          "text": [
            "Vector([8, 6, 6])\n",
            "Vector([0, 15, 15])\n",
            "Vector([5, 15, 15])\n"
          ]
        }
      ]
    },
    {
      "cell_type": "code",
      "source": [
        "op20=op6*c\n",
        "print(op20)\n",
        "op21=op7*c\n",
        "print(op21)\n",
        "op22=op8*c\n",
        "print(op22)"
      ],
      "metadata": {
        "colab": {
          "base_uri": "https://localhost:8080/"
        },
        "id": "tVSx00HB6to-",
        "outputId": "42ef356e-a894-4c41-cbf3-73ff0e357398"
      },
      "execution_count": 34,
      "outputs": [
        {
          "output_type": "stream",
          "name": "stdout",
          "text": [
            "40\n",
            "60\n",
            "70\n"
          ]
        }
      ]
    },
    {
      "cell_type": "code",
      "source": [
        "op30=[(B|1)*A+(B|2)*A+(B|3)*A]*c\n",
        "print(op30)"
      ],
      "metadata": {
        "colab": {
          "base_uri": "https://localhost:8080/"
        },
        "id": "_7Glb18o7mS9",
        "outputId": "e3282e70-af06-4595-bd62-ebf96e157d04"
      },
      "execution_count": 42,
      "outputs": [
        {
          "output_type": "stream",
          "name": "stdout",
          "text": [
            "None\n"
          ]
        }
      ]
    },
    {
      "cell_type": "markdown",
      "source": [
        "# Lineal en la matriz"
      ],
      "metadata": {
        "id": "VG0Icq4UyiSm"
      }
    },
    {
      "cell_type": "markdown",
      "source": [
        "# 4.(A + B)c = Ac + Bc"
      ],
      "metadata": {
        "id": "VfFQEKpW2v8K"
      }
    },
    {
      "cell_type": "code",
      "source": [
        "op9=(A+B)*c\n",
        "op10=A*c+A*c\n",
        "print(op9)\n",
        "print(op10)"
      ],
      "metadata": {
        "colab": {
          "base_uri": "https://localhost:8080/"
        },
        "id": "7wU4kRXM31T8",
        "outputId": "e8733881-008e-4fbc-b6c9-ec7b6972c767"
      },
      "execution_count": 13,
      "outputs": [
        {
          "output_type": "stream",
          "name": "stdout",
          "text": [
            "Vector([30, -4, 24])\n",
            "Vector([20, 0, 20])\n"
          ]
        }
      ]
    },
    {
      "cell_type": "markdown",
      "source": [
        "$\\begin{pmatrix}30\\\\ -4\\\\ 24\\end{pmatrix}$"
      ],
      "metadata": {
        "id": "4twlkin048fC"
      }
    },
    {
      "cell_type": "code",
      "source": [
        "op10"
      ],
      "metadata": {
        "colab": {
          "base_uri": "https://localhost:8080/",
          "height": 46
        },
        "id": "pMCD9YWb5Bnd",
        "outputId": "9d073de0-cfcd-47cb-9a44-4cddc2d8f54f"
      },
      "execution_count": null,
      "outputs": [
        {
          "output_type": "execute_result",
          "data": {
            "text/plain": [
              "Vector([20, 0, 20])"
            ],
            "text/html": [
              "<p style=\"text-align:center;\">$\\begin{pmatrix}20\\\\ 0\\\\ 20\\end{pmatrix}$</p>"
            ],
            "image/png": "$\\begin{pmatrix}20\\\\ 0\\\\ 20\\end{pmatrix}$",
            "text/latex": "$\\begin{pmatrix}20\\\\ 0\\\\ 20\\end{pmatrix}$"
          },
          "metadata": {},
          "execution_count": 185
        }
      ]
    },
    {
      "cell_type": "markdown",
      "source": [
        "$\\begin{pmatrix}20\\\\ 0\\\\ 20\\end{pmatrix}$"
      ],
      "metadata": {
        "id": "dFySIjya5Ev7"
      }
    },
    {
      "cell_type": "markdown",
      "source": [
        "# 5.(λA)b = λ(Ab)"
      ],
      "metadata": {
        "id": "WoXAkkcM3mpj"
      }
    },
    {
      "cell_type": "code",
      "source": [
        "op11=(4*A)*B\n",
        "op12=4*(A*b)\n",
        "print(op11,op12)\n",
        "op11"
      ],
      "metadata": {
        "colab": {
          "base_uri": "https://localhost:8080/",
          "height": 64
        },
        "id": "qtDpS40M4JhP",
        "outputId": "fc708704-e909-47ed-cd76-80b991b467ed"
      },
      "execution_count": 14,
      "outputs": [
        {
          "output_type": "stream",
          "name": "stdout",
          "text": [
            "Matrix([Vector([44, -12, 44]), Vector([8, 36, 8]), Vector([28, 36, 28])]) Vector([40, 0, 40])\n"
          ]
        },
        {
          "output_type": "execute_result",
          "data": {
            "text/plain": [
              "Matrix([Vector([44, -12, 44]), Vector([8, 36, 8]), Vector([28, 36, 28])])"
            ],
            "text/html": [
              "<p style=\"text-align:center;\">$\\left[ \\begin{array}{ccc}44&8&28\\\\-12&36&36\\\\44&8&28\\\\ \\end{array} \\right]$</p>"
            ],
            "image/png": "$\\left[ \\begin{array}{ccc}44&8&28\\\\-12&36&36\\\\44&8&28\\\\ \\end{array} \\right]$",
            "text/latex": "$\\left[ \\begin{array}{ccc}44&8&28\\\\-12&36&36\\\\44&8&28\\\\ \\end{array} \\right]$"
          },
          "metadata": {},
          "execution_count": 14
        }
      ]
    },
    {
      "cell_type": "markdown",
      "source": [
        "$\\left[ \\begin{array}{ccc}44&8&28\\\\-12&36&36\\\\44&8&28\\\\ \\end{array} \\right]$"
      ],
      "metadata": {
        "id": "qvySlFmb5-my"
      }
    },
    {
      "cell_type": "code",
      "source": [
        "op12"
      ],
      "metadata": {
        "colab": {
          "base_uri": "https://localhost:8080/",
          "height": 46
        },
        "id": "8_SA6Ocf6CIy",
        "outputId": "063caea4-2d33-4f8b-bca2-4c9ab7b3c33c"
      },
      "execution_count": null,
      "outputs": [
        {
          "output_type": "execute_result",
          "data": {
            "text/plain": [
              "Vector([40, 0, 40])"
            ],
            "text/html": [
              "<p style=\"text-align:center;\">$\\begin{pmatrix}40\\\\ 0\\\\ 40\\end{pmatrix}$</p>"
            ],
            "image/png": "$\\begin{pmatrix}40\\\\ 0\\\\ 40\\end{pmatrix}$",
            "text/latex": "$\\begin{pmatrix}40\\\\ 0\\\\ 40\\end{pmatrix}$"
          },
          "metadata": {},
          "execution_count": 189
        }
      ]
    },
    {
      "cell_type": "markdown",
      "source": [
        "$\\begin{pmatrix}40\\\\ 0\\\\ 40\\end{pmatrix}$"
      ],
      "metadata": {
        "id": "U_b4fpX16GrL"
      }
    }
  ]
}